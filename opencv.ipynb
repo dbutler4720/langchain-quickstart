{
 "cells": [
  {
   "cell_type": "markdown",
   "metadata": {},
   "source": []
  },
  {
   "cell_type": "code",
   "execution_count": null,
   "metadata": {},
   "outputs": [],
   "source": [
    "from PIL import Image\n",
    "import cv2 \n",
    "from IPython import display\n",
    "\n",
    "import numpy as np\n",
    "import requests\n",
    "\n",
    "url = 'https://192.168.0.5:8080/shot.jpg'\n",
    "\n",
    "first = True\n",
    "import time\n",
    "\n",
    "while True:\n",
    "    raw_data = requests.get(url, verify=False)\n",
    "    image_array = np.array(bytearray(raw_data.content), dtype=np.uint8)\n",
    "    frame = cv2.imdecode(image_array, -1)\n",
    "    frame = cv2.cvtColor(frame, cv2.COLOR_BGR2RGB) # Converting BGR to RGB\n",
    "\n",
    "    display.display(Image.fromarray(frame), display_id=1)\n",
    "    time.sleep(2)\n",
    "    display.clear_output(wait=True)\n",
    "\n",
    "    \n"
   ]
  }
 ],
 "metadata": {
  "kernelspec": {
   "display_name": "Python 3",
   "language": "python",
   "name": "python3"
  },
  "language_info": {
   "codemirror_mode": {
    "name": "ipython",
    "version": 3
   },
   "file_extension": ".py",
   "mimetype": "text/x-python",
   "name": "python",
   "nbconvert_exporter": "python",
   "pygments_lexer": "ipython3",
   "version": "3.11.8"
  }
 },
 "nbformat": 4,
 "nbformat_minor": 2
}
