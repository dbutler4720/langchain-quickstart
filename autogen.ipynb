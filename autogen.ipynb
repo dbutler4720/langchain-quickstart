{
 "cells": [
  {
   "cell_type": "code",
   "execution_count": 21,
   "metadata": {},
   "outputs": [
    {
     "name": "stdout",
     "output_type": "stream",
     "text": [
      "\u001b[33muser_proxy\u001b[0m (to chat_manager):\n",
      "\n",
      "Tell a unique joke about cats\n",
      "\n",
      "--------------------------------------------------------------------------------\n"
     ]
    },
    {
     "name": "stdout",
     "output_type": "stream",
     "text": [
      "\u001b[33mBob\u001b[0m (to chat_manager):\n",
      "\n",
      "Why don't cats play poker in the wild?\n",
      "\n",
      "Because there are too many cheetahs!\n",
      "\n",
      "--------------------------------------------------------------------------------\n",
      "\u001b[33mAlice\u001b[0m (to chat_manager):\n",
      "\n",
      "The joke is clever and involves wordplay with the double meaning of \"cheetahs.\" However, some might argue that the punchline could be stronger or more unexpected. Additionally, the connection between poker and cheetahs could have been explored further to make the joke even funnier.\n",
      "\n",
      "--------------------------------------------------------------------------------\n",
      "\u001b[33mBob\u001b[0m (to chat_manager):\n",
      "\n",
      "Why don't cats play poker in the wild?\n",
      "\n",
      "Because they always get caught lion about their hand!\n",
      "\n",
      "--------------------------------------------------------------------------------\n",
      "\u001b[33mBob\u001b[0m (to chat_manager):\n",
      "\n",
      "TERMINATE\n",
      "\n",
      "--------------------------------------------------------------------------------\n"
     ]
    },
    {
     "data": {
      "text/plain": [
       "ChatResult(chat_history=[{'content': 'Tell a unique joke about cats', 'role': 'assistant'}, {'content': \"Why don't cats play poker in the wild?\\n\\nBecause there are too many cheetahs!\", 'name': 'Bob', 'role': 'user'}, {'content': 'The joke is clever and involves wordplay with the double meaning of \"cheetahs.\" However, some might argue that the punchline could be stronger or more unexpected. Additionally, the connection between poker and cheetahs could have been explored further to make the joke even funnier.', 'name': 'Alice', 'role': 'user'}, {'content': \"Why don't cats play poker in the wild?\\n\\nBecause they always get caught lion about their hand!\", 'name': 'Bob', 'role': 'user'}, {'content': 'TERMINATE', 'name': 'Bob', 'role': 'user'}], summary='', cost=({'total_cost': 0.001433, 'gpt-3.5-turbo-0613': {'cost': 0.001433, 'prompt_tokens': 950, 'completion_tokens': 4, 'total_tokens': 954}}, {'total_cost': 0.001433, 'gpt-3.5-turbo-0613': {'cost': 0.001433, 'prompt_tokens': 950, 'completion_tokens': 4, 'total_tokens': 954}}), human_input=[])"
      ]
     },
     "execution_count": 21,
     "metadata": {},
     "output_type": "execute_result"
    }
   ],
   "source": [
    "import autogen\n",
    "\n",
    "llm_config = {\"config_list\": [{\n",
    "    \"model\": \"gpt-3.5-turbo\",\n",
    "    \"cache_seed\": None\n",
    "}]}\n",
    "\n",
    "bob = autogen.AssistantAgent(\n",
    "    name=\"Bob\",\n",
    "    system_message=\"\"\"\n",
    "        First, tell a joke. After Alice gives feedback, improve \n",
    "        the joke. After you tell the improved joke, say 'TERMINATE'.\n",
    "    \"\"\",\n",
    "    llm_config=llm_config,\n",
    ")\n",
    "\n",
    "alice = autogen.AssistantAgent(\n",
    "    name=\"Alice\",\n",
    "    system_message=\"Criticise the joke.\",\n",
    "    llm_config=llm_config\n",
    ")\n",
    "\n",
    "def termination_message(msg):\n",
    "    return \"TERMINATE\" in str(msg.get(\"content\", \"\"))\n",
    "\n",
    "user_proxy = autogen.UserProxyAgent(\n",
    "    name=\"user_proxy\",\n",
    "    code_execution_config={\"use_docker\": False},\n",
    "    is_termination_msg=termination_message,\n",
    "    human_input_mode=\"NEVER\"\n",
    ")\n",
    "\n",
    "groupchat = autogen.GroupChat(\n",
    "    agents=[bob, alice, user_proxy],\n",
    "    messages=[],\n",
    "    # speaker_selection_method=\"round_robin\"\n",
    ")\n",
    "\n",
    "manager = autogen.GroupChatManager(\n",
    "    groupchat=groupchat, \n",
    "    code_execution_config={\"use_docker\": False},\n",
    "    llm_config=llm_config,\n",
    "    is_termination_msg=termination_message\n",
    ")\n",
    "\n",
    "user_proxy.initiate_chat(\n",
    "    manager,\n",
    "    message=\"Tell a unique joke about cats\"\n",
    ")"
   ]
  }
 ],
 "metadata": {
  "kernelspec": {
   "display_name": "Python 3",
   "language": "python",
   "name": "python3"
  },
  "language_info": {
   "codemirror_mode": {
    "name": "ipython",
    "version": 3
   },
   "file_extension": ".py",
   "mimetype": "text/x-python",
   "name": "python",
   "nbconvert_exporter": "python",
   "pygments_lexer": "ipython3",
   "version": "3.11.7"
  }
 },
 "nbformat": 4,
 "nbformat_minor": 2
}
