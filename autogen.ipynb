{
 "cells": [
  {
   "cell_type": "code",
   "execution_count": null,
   "metadata": {},
   "outputs": [],
   "source": [
    "import autogen\n",
    "\n",
    "llm_config = {\"config_list\": [{\n",
    "    \"model\": \"gpt-3.5-turbo\",\n",
    "    \"cache_seed\": None\n",
    "}]}\n",
    "\n",
    "bob = autogen.AssistantAgent(\n",
    "    name=\"Bob\",\n",
    "    system_message=\"\"\"\n",
    "        First, tell a joke. After Alice gives feedback, improve \n",
    "        the joke. After you tell the improved joke, say 'TERMINATE'.\n",
    "    \"\"\",\n",
    "    llm_config=llm_config,\n",
    ")\n",
    "\n",
    "alice = autogen.AssistantAgent(\n",
    "    name=\"Alice\",\n",
    "    system_message=\"Criticise the joke.\",\n",
    "    llm_config=llm_config\n",
    ")\n",
    "\n",
    "def termination_message(msg):\n",
    "    return \"TERMINATE\" in str(msg.get(\"content\", \"\"))\n",
    "\n",
    "user_proxy = autogen.UserProxyAgent(\n",
    "    name=\"user_proxy\",\n",
    "    code_execution_config={\"use_docker\": False},\n",
    "    is_termination_msg=termination_message,\n",
    "    human_input_mode=\"NEVER\"\n",
    ")\n",
    "\n",
    "groupchat = autogen.GroupChat(\n",
    "    agents=[bob, alice, user_proxy],\n",
    "    messages=[],\n",
    "    # speaker_selection_method=\"round_robin\"\n",
    ")\n",
    "\n",
    "manager = autogen.GroupChatManager(\n",
    "    groupchat=groupchat, \n",
    "    code_execution_config={\"use_docker\": False},\n",
    "    llm_config=llm_config,\n",
    "    is_termination_msg=termination_message\n",
    ")\n",
    "\n",
    "user_proxy.initiate_chat(\n",
    "    manager,\n",
    "    message=\"Tell a unique joke about cats\"\n",
    ")"
   ]
  }
 ],
 "metadata": {
  "kernelspec": {
   "display_name": "Python 3",
   "language": "python",
   "name": "python3"
  },
  "language_info": {
   "codemirror_mode": {
    "name": "ipython",
    "version": 3
   },
   "file_extension": ".py",
   "mimetype": "text/x-python",
   "name": "python",
   "nbconvert_exporter": "python",
   "pygments_lexer": "ipython3",
   "version": "3.11.8"
  }
 },
 "nbformat": 4,
 "nbformat_minor": 2
}
